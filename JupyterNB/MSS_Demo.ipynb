{
 "cells": [
  {
   "cell_type": "code",
   "execution_count": 1,
   "id": "70d4c32d",
   "metadata": {},
   "outputs": [
    {
     "ename": "KeyboardInterrupt",
     "evalue": "",
     "output_type": "error",
     "traceback": [
      "\u001b[1;31m---------------------------------------------------------------------------\u001b[0m",
      "\u001b[1;31mKeyboardInterrupt\u001b[0m                         Traceback (most recent call last)",
      "\u001b[1;32m<ipython-input-1-cfa679af6569>\u001b[0m in \u001b[0;36m<module>\u001b[1;34m\u001b[0m\n\u001b[0;32m     29\u001b[0m \u001b[1;33m\u001b[0m\u001b[0m\n\u001b[0;32m     30\u001b[0m     \u001b[1;31m#define a bp(breakpoint)\u001b[0m\u001b[1;33m\u001b[0m\u001b[1;33m\u001b[0m\u001b[1;33m\u001b[0m\u001b[0m\n\u001b[1;32m---> 31\u001b[1;33m     \u001b[1;32mif\u001b[0m \u001b[0mcv2\u001b[0m\u001b[1;33m.\u001b[0m\u001b[0mwaitKey\u001b[0m\u001b[1;33m(\u001b[0m\u001b[1;36m25\u001b[0m\u001b[1;33m)\u001b[0m \u001b[1;33m&\u001b[0m \u001b[1;36m0xFF\u001b[0m \u001b[1;33m==\u001b[0m \u001b[0mord\u001b[0m\u001b[1;33m(\u001b[0m\u001b[1;34m'q'\u001b[0m\u001b[1;33m)\u001b[0m\u001b[1;33m:\u001b[0m\u001b[1;33m\u001b[0m\u001b[1;33m\u001b[0m\u001b[0m\n\u001b[0m\u001b[0;32m     32\u001b[0m         \u001b[0mcv2\u001b[0m\u001b[1;33m.\u001b[0m\u001b[0mdestroyAllWindows\u001b[0m\u001b[1;33m(\u001b[0m\u001b[1;33m)\u001b[0m\u001b[1;33m\u001b[0m\u001b[1;33m\u001b[0m\u001b[0m\n\u001b[0;32m     33\u001b[0m         \u001b[1;32mbreak\u001b[0m\u001b[1;33m\u001b[0m\u001b[1;33m\u001b[0m\u001b[0m\n",
      "\u001b[1;31mKeyboardInterrupt\u001b[0m: "
     ]
    }
   ],
   "source": [
    "# A demo for trying out the MSS Screen capturing library in Jupyter notebook\n",
    "from mss import mss\n",
    "import cv2\n",
    "from PIL import Image #PILLOW\n",
    "import numpy as np\n",
    "from time import time #to measure the performance (to check the fps)\n",
    "\n",
    "# define the resolution of the capture screen (use a smaller resolution for ML)\n",
    "mon = {'top':100,'left':100,'width':1600,'height':1024} #starting point of the monitor\n",
    "\n",
    "# define the MSS function\n",
    "sct = mss()\n",
    "\n",
    "# the infinite loop\n",
    "while True:\n",
    "    sct_img = sct.grab(mon) #grab the monitor\n",
    "    img = Image.frombytes('RGB',(sct_img.size.width,sct_img.size.height),sct_img.rgb) #what kind of image we need (we need an image that can be shown using openCV)\n",
    "    \n",
    "    #change RGB to BGR\n",
    "    img_bgr = cv2.cvtColor(np.array(img),cv2.COLOR_RGB2BGR)\n",
    "    \n",
    "    cv2.imshow('test',np.array(img_bgr)) #show transformed in a numpy array\n",
    "    \n",
    "    #define a bp(breakpoint)\n",
    "    if cv2.waitKey(25) & 0xFF == ord('q'):\n",
    "        cv2.destroyAllWindows()\n",
    "        break"
   ]
  }
 ],
 "metadata": {
  "kernelspec": {
   "display_name": "Python 3",
   "language": "python",
   "name": "python3"
  },
  "language_info": {
   "codemirror_mode": {
    "name": "ipython",
    "version": 3
   },
   "file_extension": ".py",
   "mimetype": "text/x-python",
   "name": "python",
   "nbconvert_exporter": "python",
   "pygments_lexer": "ipython3",
   "version": "3.8.3"
  }
 },
 "nbformat": 4,
 "nbformat_minor": 5
}
